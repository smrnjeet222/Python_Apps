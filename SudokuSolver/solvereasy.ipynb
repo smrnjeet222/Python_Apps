{
 "cells": [
  {
   "cell_type": "code",
   "execution_count": 1,
   "metadata": {},
   "outputs": [],
   "source": [
    "grid = [\n",
    "    [7, 8, 0, 4, 0, 0, 1, 0, 0],\n",
    "    [6, 0, 0, 0, 7, 5, 0, 0, 9],\n",
    "    [0, 0, 0, 6, 0, 1, 0, 7, 8],\n",
    "    [0, 0, 7, 0, 4, 0, 2, 6, 0],\n",
    "    [0, 0, 1, 0, 0, 0, 9, 3, 0],\n",
    "    [0, 0, 4, 0, 6, 0, 0, 0, 5],\n",
    "    [0, 7, 0, 3, 0, 0, 0, 1, 2],\n",
    "    [1, 2, 0, 0, 0, 7, 4, 0, 0],\n",
    "    [0, 4, 0, 0, 0, 6, 0, 0, 0]\n",
    "]"
   ]
  },
  {
   "cell_type": "code",
   "execution_count": 2,
   "metadata": {},
   "outputs": [
    {
     "output_type": "stream",
     "name": "stdout",
     "text": "[[7, 8, 0, 4, 0, 0, 1, 0, 0], [6, 0, 0, 0, 7, 5, 0, 0, 9], [0, 0, 0, 6, 0, 1, 0, 7, 8], [0, 0, 7, 0, 4, 0, 2, 6, 0], [0, 0, 1, 0, 0, 0, 9, 3, 0], [0, 0, 4, 0, 6, 0, 0, 0, 5], [0, 7, 0, 3, 0, 0, 0, 1, 2], [1, 2, 0, 0, 0, 7, 4, 0, 0], [0, 4, 0, 0, 0, 6, 0, 0, 0]]\n"
    }
   ],
   "source": [
    "print(grid)"
   ]
  },
  {
   "cell_type": "code",
   "execution_count": 3,
   "metadata": {},
   "outputs": [
    {
     "output_type": "stream",
     "name": "stdout",
     "text": "[[7 8 0 4 0 0 1 0 0]\n [6 0 0 0 7 5 0 0 9]\n [0 0 0 6 0 1 0 7 8]\n [0 0 7 0 4 0 2 6 0]\n [0 0 1 0 0 0 9 3 0]\n [0 0 4 0 6 0 0 0 5]\n [0 7 0 3 0 0 0 1 2]\n [1 2 0 0 0 7 4 0 0]\n [0 4 0 0 0 6 0 0 0]]\n"
    }
   ],
   "source": [
    "import numpy as np\n",
    "print(np.matrix(grid))"
   ]
  },
  {
   "cell_type": "code",
   "execution_count": 4,
   "metadata": {},
   "outputs": [],
   "source": [
    "def possible(y, x, n):\n",
    "    global grid\n",
    "    for i in range(9):\n",
    "        if grid[y][i]==n:\n",
    "            return False\n",
    "        if grid[i][x]==n:\n",
    "            return False\n",
    "            \n",
    "    x0 = (x//3)*3\n",
    "    y0 = (y//3)*3\n",
    "    for i in range(0,3):\n",
    "        for j in range(0,3):\n",
    "            if grid[y0+i][x0+j]==n:\n",
    "                return False\n",
    "    return True"
   ]
  },
  {
   "cell_type": "code",
   "execution_count": 5,
   "metadata": {},
   "outputs": [
    {
     "output_type": "execute_result",
     "data": {
      "text/plain": "True"
     },
     "metadata": {},
     "execution_count": 5
    }
   ],
   "source": [
    "possible(0,2,5)"
   ]
  },
  {
   "cell_type": "code",
   "execution_count": 6,
   "metadata": {},
   "outputs": [],
   "source": [
    "def solve():\n",
    "    global grid\n",
    "    for y in range(9):\n",
    "        for x in range(9):\n",
    "            if grid[y][x]==0:\n",
    "                for n in range(1,10):\n",
    "                    if possible(y, x, n):\n",
    "                        grid[y][x]=n\n",
    "                        solve()\n",
    "                        grid[y][x]=0 \n",
    "                return\n",
    "    print(np.matrix(grid))\n",
    "    input(\"More?\\n\")"
   ]
  },
  {
   "cell_type": "code",
   "execution_count": 7,
   "metadata": {},
   "outputs": [
    {
     "output_type": "stream",
     "name": "stdout",
     "text": "[[7 8 5 4 3 9 1 2 6]\n [6 1 2 8 7 5 3 4 9]\n [4 3 9 6 2 1 5 7 8]\n [3 5 7 9 4 8 2 6 1]\n [8 6 1 7 5 2 9 3 4]\n [2 9 4 1 6 3 7 8 5]\n [5 7 8 3 9 4 6 1 2]\n [1 2 6 5 8 7 4 9 3]\n [9 4 3 2 1 6 8 5 7]]\n[[7 8 5 4 3 9 1 2 6]\n [6 1 2 8 7 5 3 4 9]\n [4 3 9 6 2 1 5 7 8]\n [8 5 7 9 4 3 2 6 1]\n [2 6 1 7 5 8 9 3 4]\n [3 9 4 1 6 2 7 8 5]\n [5 7 8 3 9 4 6 1 2]\n [1 2 6 5 8 7 4 9 3]\n [9 4 3 2 1 6 8 5 7]]\n[[7 8 5 4 3 9 1 2 6]\n [6 1 2 8 7 5 3 4 9]\n [4 9 3 6 2 1 5 7 8]\n [8 5 7 9 4 3 2 6 1]\n [2 6 1 7 5 8 9 3 4]\n [9 3 4 1 6 2 7 8 5]\n [5 7 8 3 9 4 6 1 2]\n [1 2 6 5 8 7 4 9 3]\n [3 4 9 2 1 6 8 5 7]]\n"
    }
   ],
   "source": [
    "solve()"
   ]
  },
  {
   "cell_type": "code",
   "execution_count": null,
   "metadata": {},
   "outputs": [],
   "source": []
  }
 ],
 "metadata": {
  "kernelspec": {
   "display_name": "Python 3.8.1 64-bit",
   "language": "python",
   "name": "python38164bite8dcb54561ab4f04bdf2ac0da0f93dcf"
  },
  "language_info": {
   "codemirror_mode": {
    "name": "ipython",
    "version": 3
   },
   "file_extension": ".py",
   "mimetype": "text/x-python",
   "name": "python",
   "nbconvert_exporter": "python",
   "pygments_lexer": "ipython3",
   "version": "3.8.1-final"
  }
 },
 "nbformat": 4,
 "nbformat_minor": 4
}